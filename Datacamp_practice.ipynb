{
 "cells": [
  {
   "cell_type": "code",
   "execution_count": null,
   "metadata": {},
   "outputs": [],
   "source": [
    "-- Select the count of each level of priority\n",
    "SELECT priority, count(*)\n",
    "  from evanston311\n",
    " group by priority;"
   ]
  },
  {
   "cell_type": "code",
   "execution_count": null,
   "metadata": {},
   "outputs": [],
   "source": [
    "-- Find values of zip that appear in at least 100 rows\n",
    "-- Also get the count of each value\n",
    "SELECT distinct(zip), count(*)\n",
    "  FROM evanston311\n",
    " GROUP BY zip\n",
    "HAVING count(*)>100; "
   ]
  },
  {
   "cell_type": "code",
   "execution_count": null,
   "metadata": {},
   "outputs": [],
   "source": [
    "-- Find values of source that appear in at least 100 rows\n",
    "-- Also get the count of each value\n",
    "SELECT distinct(source), count(*)\n",
    "  FROM evanston311\n",
    " group by source\n",
    "having count(*)>100;"
   ]
  },
  {
   "cell_type": "code",
   "execution_count": null,
   "metadata": {},
   "outputs": [],
   "source": [
    "-- Find the 5 most common values of street and the count of each\n",
    "SELECT distinct(street), count(*)\n",
    "  FROM evanston311\n",
    " group by street\n",
    " order by count(*) desc\n",
    " limit 5;"
   ]
  },
  {
   "cell_type": "code",
   "execution_count": null,
   "metadata": {},
   "outputs": [],
   "source": [
    "SELECT distinct street,\n",
    "       -- Trim off unwanted characters from street\n",
    "       trim(street, '0123456789 #/.') AS cleaned_street\n",
    "  FROM evanston311\n",
    " ORDER BY street;"
   ]
  },
  {
   "cell_type": "code",
   "execution_count": null,
   "metadata": {},
   "outputs": [],
   "source": [
    "-- Count rows\n",
    "SELECT count(*)\n",
    "  FROM evanston311\n",
    " -- Where description includes trash or garbage\n",
    " WHERE description ilike '%trash%'\n",
    "    or description ilike '%garbage%';"
   ]
  },
  {
   "cell_type": "code",
   "execution_count": null,
   "metadata": {},
   "outputs": [],
   "source": [
    "-- Select categories containing Trash or Garbage\n",
    "SELECT category\n",
    "  FROM evanston311\n",
    " -- Use LIKE\n",
    " WHERE category like '%Trash%'\n",
    "    or category like '%Garbage%';"
   ]
  },
  {
   "cell_type": "code",
   "execution_count": null,
   "metadata": {},
   "outputs": [],
   "source": [
    "-- Count rows\n",
    "SELECT count(*)\n",
    "  FROM evanston311 \n",
    " -- description contains trash or garbage (any case)\n",
    " WHERE (description ilike '%trash%'\n",
    "    OR description ilike '%garbage%') \n",
    " -- category does not contain Trash or Garbage\n",
    "   AND category NOT LIKE '%Trash%'\n",
    "   AND category NOT LIKE '%Garbage%';"
   ]
  },
  {
   "cell_type": "code",
   "execution_count": null,
   "metadata": {},
   "outputs": [],
   "source": [
    "-- Count rows with each category\n",
    "SELECT category, count(*)\n",
    "  FROM evanston311 \n",
    " WHERE (description ILIKE '%trash%'\n",
    "    OR description ILIKE '%garbage%') \n",
    "   AND category NOT LIKE '%Trash%'\n",
    "   AND category NOT LIKE '%Garbage%'\n",
    " -- What are you counting?\n",
    " GROUP BY category\n",
    " --- order by most frequent values\n",
    " ORDER BY count(*) desc\n",
    " LIMIT 10;"
   ]
  },
  {
   "cell_type": "code",
   "execution_count": null,
   "metadata": {},
   "outputs": [],
   "source": [
    "-- Concatenate house_num, a space, and street\n",
    "-- and trim spaces from the start of the result\n",
    "SELECT trim(concat(house_num, ' ', street)) AS address\n",
    "  FROM evanston311;"
   ]
  },
  {
   "cell_type": "code",
   "execution_count": null,
   "metadata": {},
   "outputs": [],
   "source": [
    "-- Select the first word of the street value\n",
    "SELECT split_part(street, ' ', 1) AS street_name, \n",
    "       count(*)\n",
    "  FROM evanston311\n",
    " GROUP BY street_name\n",
    " ORDER BY count DESC\n",
    " LIMIT 20;"
   ]
  },
  {
   "cell_type": "code",
   "execution_count": null,
   "metadata": {},
   "outputs": [],
   "source": [
    "-- Select the first 50 chars when length is greater than 50\n",
    "SELECT CASE WHEN length(description) > 50\n",
    "            THEN left(description, 50) || '...'\n",
    "       -- otherwise just select description\n",
    "       ELSE description\n",
    "       END\n",
    "  FROM evanston311\n",
    " -- limit to descriptions that start with the word I\n",
    " WHERE description LIKE 'I %'\n",
    " ORDER BY description;"
   ]
  },
  {
   "cell_type": "code",
   "execution_count": null,
   "metadata": {},
   "outputs": [],
   "source": []
  },
  {
   "cell_type": "code",
   "execution_count": null,
   "metadata": {},
   "outputs": [],
   "source": []
  }
 ],
 "metadata": {
  "kernelspec": {
   "display_name": "Python 3",
   "language": "python",
   "name": "python3"
  },
  "language_info": {
   "codemirror_mode": {
    "name": "ipython",
    "version": 3
   },
   "file_extension": ".py",
   "mimetype": "text/x-python",
   "name": "python",
   "nbconvert_exporter": "python",
   "pygments_lexer": "ipython3",
   "version": "3.7.9"
  },
  "toc": {
   "base_numbering": 1,
   "nav_menu": {},
   "number_sections": true,
   "sideBar": true,
   "skip_h1_title": false,
   "title_cell": "Table of Contents",
   "title_sidebar": "Contents",
   "toc_cell": false,
   "toc_position": {},
   "toc_section_display": true,
   "toc_window_display": false
  }
 },
 "nbformat": 4,
 "nbformat_minor": 4
}
