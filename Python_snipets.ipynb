{
 "cells": [
  {
   "cell_type": "code",
   "execution_count": null,
   "metadata": {},
   "outputs": [],
   "source": [
    "#Found this beautiful snippet today. This uses the datetime module to find someones age \n",
    "#but I especially love the use of the the fact that booleans can be treated as integers in \n",
    "#the check for if they have had their birthday this year yet. I just had to pass it along.\n",
    "today.year - birth.year - ((today.month, today.day) < (birth.month, birth.day))"
   ]
  },
  {
   "cell_type": "code",
   "execution_count": 8,
   "metadata": {},
   "outputs": [],
   "source": [
    "# Given a string: print the number of words, and the longest word\n",
    "my_str = ['apple', 'banana', 'peach', 'pear', 'tomato', 'strawberry', 'kiwi']"
   ]
  },
  {
   "cell_type": "code",
   "execution_count": 9,
   "metadata": {},
   "outputs": [
    {
     "data": {
      "text/plain": [
       "7"
      ]
     },
     "execution_count": 9,
     "metadata": {},
     "output_type": "execute_result"
    }
   ],
   "source": [
    "len(my_str)"
   ]
  },
  {
   "cell_type": "code",
   "execution_count": 20,
   "metadata": {},
   "outputs": [
    {
     "name": "stdout",
     "output_type": "stream",
     "text": [
      "strawberry\n"
     ]
    }
   ],
   "source": [
    "longest_word = max(my_str, key=len)\n",
    "print(longest_word)\n",
    "\n",
    "# https://www.kite.com/python/answers/how-to-find-the-longest-string-in-a-list-in-python"
   ]
  },
  {
   "cell_type": "code",
   "execution_count": 19,
   "metadata": {},
   "outputs": [
    {
     "name": "stdout",
     "output_type": "stream",
     "text": [
      "apple\n",
      "banana\n",
      "peach\n",
      "pear\n",
      "tomato\n",
      "strawberry\n",
      "kiwi\n"
     ]
    }
   ],
   "source": [
    "# Print each word from that string on a new line\n",
    "print(*my_str, sep='\\n')\n",
    "# https://www.geeksforgeeks.org/print-lists-in-python-4-different-ways/"
   ]
  },
  {
   "cell_type": "code",
   "execution_count": 21,
   "metadata": {},
   "outputs": [
    {
     "name": "stdout",
     "output_type": "stream",
     "text": [
      "The factorial of 23 is : 25852016738884976640000\n"
     ]
    }
   ],
   "source": [
    "# Write a factorial function\n",
    "n = 23\n",
    "fact = 1\n",
    "  \n",
    "for i in range(1,n+1): \n",
    "    fact = fact * i \n",
    "      \n",
    "print (\"The factorial of 23 is : \",end=\"\") \n",
    "print (fact)\n",
    "\n",
    "# https://www.geeksforgeeks.org/factorial-in-python/"
   ]
  },
  {
   "cell_type": "code",
   "execution_count": 22,
   "metadata": {},
   "outputs": [
    {
     "name": "stdout",
     "output_type": "stream",
     "text": [
      "The factorial of 23 is : 25852016738884976640000\n"
     ]
    }
   ],
   "source": [
    "# Write a factorial function\n",
    "import math \n",
    "  \n",
    "print (\"The factorial of 23 is : \", end=\"\") \n",
    "print (math.factorial(23)) \n",
    "\n",
    "# https://www.geeksforgeeks.org/factorial-in-python/"
   ]
  },
  {
   "cell_type": "code",
   "execution_count": 23,
   "metadata": {},
   "outputs": [
    {
     "name": "stdout",
     "output_type": "stream",
     "text": [
      "Yes\n"
     ]
    }
   ],
   "source": [
    "# Write a function to check if a string is a palindrome\n",
    "# Discuss any edge cases which may interfere with your function\n",
    "def isPalindrome(s):\n",
    "    return s == s[::-1]\n",
    "\n",
    "s = \"malayalam\"\n",
    "ans = isPalindrome(s)\n",
    " \n",
    "if ans:\n",
    "    print(\"Yes\")\n",
    "else:\n",
    "    print(\"No\")\n",
    "    \n",
    "# https://www.geeksforgeeks.org/python-program-check-string-palindrome-not/"
   ]
  },
  {
   "cell_type": "code",
   "execution_count": 25,
   "metadata": {},
   "outputs": [
    {
     "name": "stdout",
     "output_type": "stream",
     "text": [
      "True\n"
     ]
    }
   ],
   "source": [
    "# Write a function to check if a string is a palindrome\n",
    "pal = lambda s: True if ''.join(reversed(s)) == s else False\n",
    "print(pal('malayalam'))"
   ]
  },
  {
   "cell_type": "code",
   "execution_count": null,
   "metadata": {},
   "outputs": [],
   "source": []
  }
 ],
 "metadata": {
  "kernelspec": {
   "display_name": "Python 3",
   "language": "python",
   "name": "python3"
  },
  "language_info": {
   "codemirror_mode": {
    "name": "ipython",
    "version": 3
   },
   "file_extension": ".py",
   "mimetype": "text/x-python",
   "name": "python",
   "nbconvert_exporter": "python",
   "pygments_lexer": "ipython3",
   "version": "3.7.9"
  },
  "toc": {
   "base_numbering": 1,
   "nav_menu": {},
   "number_sections": true,
   "sideBar": true,
   "skip_h1_title": false,
   "title_cell": "Table of Contents",
   "title_sidebar": "Contents",
   "toc_cell": false,
   "toc_position": {},
   "toc_section_display": true,
   "toc_window_display": false
  }
 },
 "nbformat": 4,
 "nbformat_minor": 4
}
