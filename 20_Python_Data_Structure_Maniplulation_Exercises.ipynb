{
 "cells": [
  {
   "cell_type": "code",
   "execution_count": 1,
   "metadata": {},
   "outputs": [],
   "source": [
    "students = [\n",
    "    {\n",
    "        \"id\": \"100001\",\n",
    "        \"student\": \"Ada Lovelace\",\n",
    "        \"coffee_preference\": \"light\",\n",
    "        \"course\": \"web development\",\n",
    "        \"grades\": [70, 91, 82, 71],\n",
    "        \"pets\": [{\"species\": \"horse\", \"age\": 8}],\n",
    "    },\n",
    "    {\n",
    "        \"id\": \"100002\",\n",
    "        \"student\": \"Thomas Bayes\",\n",
    "        \"coffee_preference\": \"medium\",\n",
    "        \"course\": \"data science\",\n",
    "        \"grades\": [75, 73, 86, 100],\n",
    "        \"pets\": [],\n",
    "    },\n",
    "    {\n",
    "        \"id\": \"100003\",\n",
    "        \"student\": \"Marie Curie\",\n",
    "        \"coffee_preference\": \"light\",\n",
    "        \"course\": \"web development\",\n",
    "        \"grades\": [70, 89, 69, 65],\n",
    "        \"pets\": [{\"species\": \"cat\", \"age\": 0}],\n",
    "    },\n",
    "    {\n",
    "        \"id\": \"100004\",\n",
    "        \"student\": \"Grace Hopper\",\n",
    "        \"coffee_preference\": \"dark\",\n",
    "        \"course\": \"data science\",\n",
    "        \"grades\": [73, 66, 83, 92],\n",
    "        \"pets\": [{\"species\": \"dog\", \"age\": 4}, {\"species\": \"cat\", \"age\": 4}],\n",
    "    },\n",
    "    {\n",
    "        \"id\": \"100005\",\n",
    "        \"student\": \"Alan Turing\",\n",
    "        \"coffee_preference\": \"dark\",\n",
    "        \"course\": \"web development\",\n",
    "        \"grades\": [78, 98, 85, 65],\n",
    "        \"pets\": [\n",
    "            {\"species\": \"horse\", \"age\": 6},\n",
    "            {\"species\": \"horse\", \"age\": 7},\n",
    "            {\"species\": \"dog\", \"age\": 5},\n",
    "        ],\n",
    "    },\n",
    "    {\n",
    "        \"id\": \"100006\",\n",
    "        \"student\": \"Rosalind Franklin\",\n",
    "        \"coffee_preference\": \"dark\",\n",
    "        \"course\": \"data science\",\n",
    "        \"grades\": [76, 70, 96, 81],\n",
    "        \"pets\": [],\n",
    "    },\n",
    "    {\n",
    "        \"id\": \"100007\",\n",
    "        \"student\": \"Elizabeth Blackwell\",\n",
    "        \"coffee_preference\": \"dark\",\n",
    "        \"course\": \"web development\",\n",
    "        \"grades\": [69, 94, 89, 86],\n",
    "        \"pets\": [{\"species\": \"cat\", \"age\": 10}],\n",
    "    },\n",
    "    {\n",
    "        \"id\": \"100008\",\n",
    "        \"student\": \"Rene Descartes\",\n",
    "        \"coffee_preference\": \"medium\",\n",
    "        \"course\": \"data science\",\n",
    "        \"grades\": [87, 79, 90, 99],\n",
    "        \"pets\": [{\"species\": \"cat\", \"age\": 10}, {\"species\": \"cat\", \"age\": 8}],\n",
    "    },\n",
    "    {\n",
    "        \"id\": \"100009\",\n",
    "        \"student\": \"Ahmed Zewail\",\n",
    "        \"coffee_preference\": \"medium\",\n",
    "        \"course\": \"data science\",\n",
    "        \"grades\": [74, 99, 93, 89],\n",
    "        \"pets\": [{\"species\": \"cat\", \"age\": 0}, {\"species\": \"cat\", \"age\": 0}],\n",
    "    },\n",
    "    {\n",
    "        \"id\": \"100010\",\n",
    "        \"student\": \"Chien-Shiung Wu\",\n",
    "        \"coffee_preference\": \"medium\",\n",
    "        \"course\": \"web development\",\n",
    "        \"grades\": [82, 92, 91, 65],\n",
    "        \"pets\": [{\"species\": \"cat\", \"age\": 8}],\n",
    "    },\n",
    "    {\n",
    "        \"id\": \"100011\",\n",
    "        \"student\": \"William Sanford Nye\",\n",
    "        \"coffee_preference\": \"dark\",\n",
    "        \"course\": \"data science\",\n",
    "        \"grades\": [70, 92, 65, 99],\n",
    "        \"pets\": [{\"species\": \"cat\", \"age\": 8}, {\"species\": \"cat\", \"age\": 5}],\n",
    "    },\n",
    "    {\n",
    "        \"id\": \"100012\",\n",
    "        \"student\": \"Carl Sagan\",\n",
    "        \"coffee_preference\": \"medium\",\n",
    "        \"course\": \"data science\",\n",
    "        \"grades\": [100, 86, 91, 87],\n",
    "        \"pets\": [{\"species\": \"cat\", \"age\": 10}],\n",
    "    },\n",
    "    {\n",
    "        \"id\": \"100013\",\n",
    "        \"student\": \"Jane Goodall\",\n",
    "        \"coffee_preference\": \"light\",\n",
    "        \"course\": \"web development\",\n",
    "        \"grades\": [80, 70, 68, 98],\n",
    "        \"pets\": [{\"species\": \"horse\", \"age\": 4}],\n",
    "    },\n",
    "    {\n",
    "        \"id\": \"100014\",\n",
    "        \"student\": \"Richard Feynman\",\n",
    "        \"coffee_preference\": \"medium\",\n",
    "        \"course\": \"web development\",\n",
    "        \"grades\": [73, 99, 86, 98],\n",
    "        \"pets\": [{\"species\": \"dog\", \"age\": 6}],\n",
    "    },\n",
    "]"
   ]
  },
  {
   "cell_type": "code",
   "execution_count": null,
   "metadata": {},
   "outputs": [],
   "source": [
    "# Questions not attempted yet:\n",
    "\n",
    "# What is the most common type of pet for web development students?\n",
    "# What is the average name length?\n",
    "# What is the highest pet age for light coffee drinkers?"
   ]
  },
  {
   "cell_type": "code",
   "execution_count": null,
   "metadata": {},
   "outputs": [],
   "source": [
    "# How many students are there?\n",
    "student_list = len(students)\n",
    "print(student_list)"
   ]
  },
  {
   "cell_type": "code",
   "execution_count": null,
   "metadata": {},
   "outputs": [],
   "source": [
    "# How many students prefer light coffee? For each type of coffee roast?\n",
    "coffee_list = []\n",
    "\n",
    "for i in students:\n",
    "        coffee = i.get(\"coffee_preference\")\n",
    "        coffee_list.append(coffee)\n",
    "\n",
    "light_count = 0\n",
    "med_count = 0\n",
    "dark_count = 0\n",
    "other_count = 0\n",
    "\n",
    "for i in coffee_list:\n",
    "    if i == 'light':\n",
    "        light_count += 1\n",
    "    elif i == 'medium':\n",
    "        med_count += 1\n",
    "    elif i == 'dark':\n",
    "        dark_count += 1\n",
    "    else:\n",
    "        other_count += 1\n",
    "print(light_count, 'prefer light coffee roast')\n",
    "print(med_count, 'prefer medium coffee roast')\n",
    "print(dark_count, 'prefer dark coffee roast')\n",
    "print(other_count, 'prefer other coffee roast')"
   ]
  },
  {
   "cell_type": "code",
   "execution_count": 14,
   "metadata": {
    "scrolled": true
   },
   "outputs": [
    {
     "name": "stdout",
     "output_type": "stream",
     "text": [
      "{'cat', 'dog', 'horse'}\n",
      "3\n"
     ]
    }
   ],
   "source": [
    "# How many types of each pet are there?\n",
    "pet_list=[]\n",
    "species_list = []\n",
    "\n",
    "for i in students:\n",
    "    pet_list = i['pets']\n",
    "    for i in pet_list:\n",
    "        species = i['species']\n",
    "        species_list.append(species)\n",
    "unique = set(species_list)\n",
    "print(unique)\n",
    "print(len(unique))\n",
    "\n",
    "    # thought I got unstuck with Bibek help, but his code appears to be counting letters in dog\n",
    "    # len(species_list) returns count of characters in string, not length of list \n",
    "    # stuck again\n",
    "    # combo of Bibek look up and my append list from above then use set to get unique"
   ]
  },
  {
   "cell_type": "code",
   "execution_count": 33,
   "metadata": {},
   "outputs": [
    {
     "name": "stdout",
     "output_type": "stream",
     "text": [
      "3\n",
      "{'d', 'g', 'o'}\n"
     ]
    }
   ],
   "source": [
    "# from Bibek\n",
    "\n",
    "new_list =[]\n",
    "pet_list = []\n",
    "for element in students:\n",
    "    new_list = element[\"pets\"]\n",
    "    for item in new_list:\n",
    "        pet_list = item[\"species\"]\n",
    "unique_list = set(pet_list)\n",
    "print(len(unique_list))\n",
    "print(unique_list)\n"
   ]
  },
  {
   "cell_type": "code",
   "execution_count": 41,
   "metadata": {},
   "outputs": [
    {
     "name": "stdout",
     "output_type": "stream",
     "text": [
      "[4, 5, 6, 4, 4, 4, 4, 4, 4, 4, 4, 4, 4, 4]\n",
      "{4, 5, 6}\n"
     ]
    }
   ],
   "source": [
    "# How many grades does each student have? Do they all have the same number of grades?\n",
    "grades_list = []\n",
    "num_grades_list = []\n",
    "\n",
    "for i in students:\n",
    "    grades_list = i['grades']\n",
    "    num_grades = len(grades_list)\n",
    "    num_grades_list.append(num_grades)\n",
    "print(num_grades_list)\n",
    "unq_num = set(num_grades_list)\n",
    "print(unq_num)\n",
    "    \n",
    "# looking at printout will give answer to question for this example, but would not work if there were 100+ students\n",
    "# added unique function and updated student data to show it now works when students have different # of grades\n",
    "    # [4, 5, 6, 4, 4, 4, 4, 4, 4, 4, 4, 4, 4, 4]\n",
    "    # {4, 5, 6}\n",
    "# had to remove added data for next question\n"
   ]
  },
  {
   "cell_type": "code",
   "execution_count": 45,
   "metadata": {},
   "outputs": [
    {
     "name": "stdout",
     "output_type": "stream",
     "text": [
      "Ada Lovelace 78.5\n",
      "Thomas Bayes 83.5\n",
      "Marie Curie 73.25\n",
      "Grace Hopper 78.5\n",
      "Alan Turing 81.5\n",
      "Rosalind Franklin 80.75\n",
      "Elizabeth Blackwell 84.5\n",
      "Rene Descartes 88.75\n",
      "Ahmed Zewail 88.75\n",
      "Chien-Shiung Wu 82.5\n",
      "William Sanford Nye 81.5\n",
      "Carl Sagan 91.0\n",
      "Jane Goodall 79.0\n",
      "Richard Feynman 89.0\n"
     ]
    }
   ],
   "source": [
    "# What is each student's grade average?\n",
    "\n",
    "for i in students:\n",
    "    name = i[\"student\"]\n",
    "    avg_grade = (sum(i[\"grades\"]))/(len(i[\"grades\"]))\n",
    "    print(name, avg_grade)\n"
   ]
  },
  {
   "cell_type": "code",
   "execution_count": 51,
   "metadata": {},
   "outputs": [
    {
     "name": "stdout",
     "output_type": "stream",
     "text": [
      "Ada Lovelace pets = 1\n",
      "Thomas Bayes pets = 0\n",
      "Marie Curie pets = 1\n",
      "Grace Hopper pets = 2\n",
      "Alan Turing pets = 3\n",
      "Rosalind Franklin pets = 0\n",
      "Elizabeth Blackwell pets = 1\n",
      "Rene Descartes pets = 2\n",
      "Ahmed Zewail pets = 2\n",
      "Chien-Shiung Wu pets = 1\n",
      "William Sanford Nye pets = 2\n",
      "Carl Sagan pets = 1\n",
      "Jane Goodall pets = 1\n",
      "Richard Feynman pets = 1\n"
     ]
    }
   ],
   "source": [
    "# How many pets does each student have?\n",
    "\n",
    "for i in students:\n",
    "    name = i['student']\n",
    "    pet_count = len(i['pets'])\n",
    "    print(name, \"pets =\", pet_count)\n"
   ]
  },
  {
   "cell_type": "code",
   "execution_count": 59,
   "metadata": {},
   "outputs": [
    {
     "name": "stdout",
     "output_type": "stream",
     "text": [
      "Students in web development = 7\n",
      "Students in data sciene = 7\n"
     ]
    }
   ],
   "source": [
    "# How many students are in web development? data science?\n",
    "wd = []\n",
    "ds = []\n",
    "\n",
    "for i in students:\n",
    "    if i['course'] == 'web development':\n",
    "        web_stud = i['id']\n",
    "        wd.append(web_stud)\n",
    "    elif i['course'] == 'data science':\n",
    "        data_stud = i['id']\n",
    "        ds.append(data_stud)\n",
    "    else:\n",
    "        print('course')\n",
    "print(\"Students in web development =\", len(wd))\n",
    "print(\"Students in data sciene =\", len(ds))\n"
   ]
  },
  {
   "cell_type": "code",
   "execution_count": 13,
   "metadata": {},
   "outputs": [
    {
     "name": "stdout",
     "output_type": "stream",
     "text": [
      "The average number of pets for students in web development is 1.29\n"
     ]
    }
   ],
   "source": [
    "# What is the average number of pets for students in web development?\n",
    "\n",
    "web_pets = []\n",
    "wd = []\n",
    "for i in students:\n",
    "    if i[\"course\"] == \"web development\":\n",
    "        stud_pets = len(i[\"pets\"])\n",
    "        web_pets.append(stud_pets)\n",
    "        web_stud = i['id']\n",
    "        wd.append(web_stud)\n",
    "print(\"The average number of pets for students in web development is\", round((sum(web_pets)/(len(wd))), 2))\n",
    "\n",
    "# exobrain\n",
    "# https://www.geeksforgeeks.org/round-function-python/"
   ]
  },
  {
   "cell_type": "code",
   "execution_count": 21,
   "metadata": {},
   "outputs": [
    {
     "name": "stdout",
     "output_type": "stream",
     "text": [
      "The average pet age for students in data science is 5.44.\n"
     ]
    }
   ],
   "source": [
    "# What is the average pet age for students in data science?\n",
    "\n",
    "# Process: Find ages of pets of students in data science\n",
    "\n",
    "pet_list=[]\n",
    "age_list = []\n",
    "\n",
    "for i in students:\n",
    "    if i['course'] == 'data science':\n",
    "        pet_list = i['pets']\n",
    "        for i in pet_list:\n",
    "            age = i['age']\n",
    "            age_list.append(age)\n",
    "average = round(sum(age_list)/len(age_list), 2)\n",
    "print(f\"The average pet age for students in data science is {average}.\")\n",
    "\n",
    "\n"
   ]
  },
  {
   "cell_type": "code",
   "execution_count": 36,
   "metadata": {},
   "outputs": [
    {
     "name": "stdout",
     "output_type": "stream",
     "text": [
      "['light', 'medium', 'light', 'dark', 'dark', 'dark', 'dark', 'medium', 'medium', 'medium', 'dark', 'medium', 'light', 'medium']\n",
      "medium\n"
     ]
    }
   ],
   "source": [
    "# What is most frequent coffee preference for data science students?\n",
    "\n",
    "coffee_list = []\n",
    "\n",
    "for i in students:\n",
    "    coffee = i.get(\"coffee_preference\")\n",
    "    coffee_list.append(coffee)\n",
    "\n",
    "def most_frequent(List): \n",
    "    return max(set(List), key = List.count) \n",
    "print(coffee_list)\n",
    "print(most_frequent(coffee_list))\n",
    "\n",
    "#     exobrain: \n",
    "#     https://www.geeksforgeeks.org/python-find-most-frequent-element-in-a-list/"
   ]
  },
  {
   "cell_type": "code",
   "execution_count": 45,
   "metadata": {},
   "outputs": [
    {
     "name": "stdout",
     "output_type": "stream",
     "text": [
      "[('dark', 2), ('medium', 2)]\n"
     ]
    }
   ],
   "source": [
    "# What is the least frequent coffee preference for web development students?\n",
    "\n",
    "coffee_list = []\n",
    "\n",
    "for i in students:\n",
    "    if i['course'] == 'web development':\n",
    "        coffee = i.get(\"coffee_preference\")\n",
    "        coffee_list.append(coffee)\n",
    "\n",
    "\n",
    "from collections import Counter\n",
    "\n",
    "least_common = Counter(coffee_list).most_common()[1:]\n",
    "print(least_common)\n",
    "\n",
    "# exobrain: https://www.codegrepper.com/code-examples/python/python+counter+least+common"
   ]
  },
  {
   "cell_type": "code",
   "execution_count": 57,
   "metadata": {},
   "outputs": [
    {
     "name": "stdout",
     "output_type": "stream",
     "text": [
      "The average grade for students with at least 2 pets is 83.8.\n"
     ]
    }
   ],
   "source": [
    "# What is the average grade for students with at least 2 pets?\n",
    "\n",
    "ave_list = []\n",
    "\n",
    "for i in students:\n",
    "    if len(i['pets']) >= 2:\n",
    "        grades = i['grades']\n",
    "        ave_grade = sum(grades)/len(grades)\n",
    "        ave_list.append(ave_grade)\n",
    "average = sum(ave_list)/len(ave_list)\n",
    "print(f\"The average grade for students with at least 2 pets is {average}.\")"
   ]
  },
  {
   "cell_type": "code",
   "execution_count": 56,
   "metadata": {},
   "outputs": [
    {
     "name": "stdout",
     "output_type": "stream",
     "text": [
      "1\n"
     ]
    }
   ],
   "source": [
    "# How many students have 3 pets?\n",
    "three_pets = [i for i in students if len(i['pets']) == 3]\n",
    "print(len(three_pets))"
   ]
  },
  {
   "cell_type": "code",
   "execution_count": 60,
   "metadata": {},
   "outputs": [
    {
     "name": "stdout",
     "output_type": "stream",
     "text": [
      "The average grade for students with at least 0 pets is 82.125.\n"
     ]
    }
   ],
   "source": [
    "# What is the average grade for students with 0 pets?\n",
    "\n",
    "ave_list = []\n",
    "\n",
    "for i in students:\n",
    "    if len(i['pets']) == 0:\n",
    "        grades = i['grades']\n",
    "        ave_grade = sum(grades)/len(grades)\n",
    "        ave_list.append(ave_grade)\n",
    "average = sum(ave_list)/len(ave_list)\n",
    "print(f\"The average grade for students with at least 0 pets is {average}.\")"
   ]
  },
  {
   "cell_type": "code",
   "execution_count": 66,
   "metadata": {},
   "outputs": [
    {
     "name": "stdout",
     "output_type": "stream",
     "text": [
      "The average grade for web development students is 81.18.\n",
      "The average grade for data science students is 84.68.\n"
     ]
    }
   ],
   "source": [
    "# What is the average grade for web development students? data science students?\n",
    "\n",
    "ave_list = []\n",
    "for i in students:\n",
    "    if i['course'] == 'web development':\n",
    "        grades = i['grades']\n",
    "        ave_grade = sum(grades)/len(grades)\n",
    "        ave_list.append(ave_grade)\n",
    "average = sum(ave_list)/len(ave_list)\n",
    "print(f\"The average grade for web development students is {round((average), 2)}.\")\n",
    "\n",
    "ave_list = []\n",
    "for i in students:\n",
    "    if i['course'] == 'data science':\n",
    "        grades = i['grades']\n",
    "        ave_grade = sum(grades)/len(grades)\n",
    "        ave_list.append(ave_grade)\n",
    "average = sum(ave_list)/len(ave_list)\n",
    "print(f\"The average grade for data science students is {round((average), 2)}.\")"
   ]
  },
  {
   "cell_type": "code",
   "execution_count": 68,
   "metadata": {},
   "outputs": [
    {
     "name": "stdout",
     "output_type": "stream",
     "text": [
      "28.8\n"
     ]
    }
   ],
   "source": [
    "# What is the average grade range (i.e. highest grade - lowest grade) for dark coffee drinkers?\n",
    "range_list = []\n",
    "\n",
    "# for each dark coffee drinking student find the difference between that student's highest and lowest grade\n",
    "for i in students:\n",
    "    if i['coffee_preference'] == 'dark':\n",
    "        max_grade = max(i['grades'])\n",
    "        min_grade = min(i['grades'])\n",
    "        grade_range = max_grade - min_grade\n",
    "        range_list.append(grade_range)\n",
    "\n",
    "# find the average of the differences        \n",
    "avg_range = sum(range_list)/len(range_list)\n",
    "print(avg_range)\n"
   ]
  },
  {
   "cell_type": "code",
   "execution_count": 70,
   "metadata": {},
   "outputs": [
    {
     "name": "stdout",
     "output_type": "stream",
     "text": [
      "1.17\n"
     ]
    }
   ],
   "source": [
    "# What is the average number of pets for medium coffee drinkers?\n",
    "pet_list = []\n",
    "for i in students:\n",
    "    if i['coffee_preference'] == 'medium':\n",
    "        pets = len(i['pets'])\n",
    "        pet_list.append(pets)\n",
    "        \n",
    "print(round(sum(pet_list)/len(pet_list), 2))\n"
   ]
  },
  {
   "cell_type": "code",
   "execution_count": null,
   "metadata": {},
   "outputs": [],
   "source": []
  }
 ],
 "metadata": {
  "kernelspec": {
   "display_name": "Python 3",
   "language": "python",
   "name": "python3"
  },
  "language_info": {
   "codemirror_mode": {
    "name": "ipython",
    "version": 3
   },
   "file_extension": ".py",
   "mimetype": "text/x-python",
   "name": "python",
   "nbconvert_exporter": "python",
   "pygments_lexer": "ipython3",
   "version": "3.7.6"
  }
 },
 "nbformat": 4,
 "nbformat_minor": 4
}
